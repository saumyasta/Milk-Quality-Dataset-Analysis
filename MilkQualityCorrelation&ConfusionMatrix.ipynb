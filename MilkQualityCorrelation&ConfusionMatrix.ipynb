{
 "cells": [
  {
   "cell_type": "markdown",
   "id": "56c0bde0",
   "metadata": {},
   "source": [
    "### Finding Correlation Matrix"
   ]
  },
  {
   "cell_type": "code",
   "execution_count": 2,
   "id": "3eb33ddc",
   "metadata": {},
   "outputs": [],
   "source": [
    "import pandas as pd\n",
    "import numpy as np"
   ]
  },
  {
   "cell_type": "code",
   "execution_count": 3,
   "id": "71a4bbb2",
   "metadata": {},
   "outputs": [
    {
     "name": "stdout",
     "output_type": "stream",
     "text": [
      "       pH  Temprature  Taste  Odor  Fat   Turbidity  Colour   Grade\n",
      "0     6.6          35      1     0     1          0     254    high\n",
      "1     6.6          36      0     1     0          1     253    high\n",
      "2     8.5          70      1     1     1          1     246     low\n",
      "3     9.5          34      1     1     0          1     255     low\n",
      "4     6.6          37      0     0     0          0     255  medium\n",
      "...   ...         ...    ...   ...   ...        ...     ...     ...\n",
      "1054  6.7          45      1     1     0          0     247  medium\n",
      "1055  6.7          38      1     0     1          0     255    high\n",
      "1056  3.0          40      1     1     1          1     255     low\n",
      "1057  6.8          43      1     0     1          0     250    high\n",
      "1058  8.6          55      0     1     1          1     255     low\n",
      "\n",
      "[1059 rows x 8 columns]\n"
     ]
    }
   ],
   "source": [
    "df = pd.read_csv('milknew.csv')\n",
    "print(df)"
   ]
  },
  {
   "cell_type": "code",
   "execution_count": 4,
   "id": "851da8c2",
   "metadata": {},
   "outputs": [
    {
     "data": {
      "text/html": [
       "<style type=\"text/css\">\n",
       "#T_581e8_row0_col0, #T_581e8_row1_col1, #T_581e8_row2_col2, #T_581e8_row3_col3, #T_581e8_row4_col4, #T_581e8_row5_col5, #T_581e8_row6_col6 {\n",
       "  background-color: #b40426;\n",
       "  color: #f1f1f1;\n",
       "}\n",
       "#T_581e8_row0_col1 {\n",
       "  background-color: #a5c3fe;\n",
       "  color: #000000;\n",
       "}\n",
       "#T_581e8_row0_col2 {\n",
       "  background-color: #465ecf;\n",
       "  color: #f1f1f1;\n",
       "}\n",
       "#T_581e8_row0_col3, #T_581e8_row0_col4, #T_581e8_row0_col5, #T_581e8_row0_col6, #T_581e8_row1_col2, #T_581e8_row2_col1, #T_581e8_row6_col0 {\n",
       "  background-color: #3b4cc0;\n",
       "  color: #f1f1f1;\n",
       "}\n",
       "#T_581e8_row1_col0 {\n",
       "  background-color: #afcafc;\n",
       "  color: #000000;\n",
       "}\n",
       "#T_581e8_row1_col3 {\n",
       "  background-color: #4358cb;\n",
       "  color: #f1f1f1;\n",
       "}\n",
       "#T_581e8_row1_col4, #T_581e8_row3_col6 {\n",
       "  background-color: #5b7ae5;\n",
       "  color: #f1f1f1;\n",
       "}\n",
       "#T_581e8_row1_col5 {\n",
       "  background-color: #6788ee;\n",
       "  color: #f1f1f1;\n",
       "}\n",
       "#T_581e8_row1_col6 {\n",
       "  background-color: #6485ec;\n",
       "  color: #f1f1f1;\n",
       "}\n",
       "#T_581e8_row2_col0 {\n",
       "  background-color: #5572df;\n",
       "  color: #f1f1f1;\n",
       "}\n",
       "#T_581e8_row2_col3, #T_581e8_row6_col1, #T_581e8_row6_col5 {\n",
       "  background-color: #5673e0;\n",
       "  color: #f1f1f1;\n",
       "}\n",
       "#T_581e8_row2_col4 {\n",
       "  background-color: #bad0f8;\n",
       "  color: #000000;\n",
       "}\n",
       "#T_581e8_row2_col5 {\n",
       "  background-color: #3c4ec2;\n",
       "  color: #f1f1f1;\n",
       "}\n",
       "#T_581e8_row2_col6, #T_581e8_row3_col0 {\n",
       "  background-color: #506bda;\n",
       "  color: #f1f1f1;\n",
       "}\n",
       "#T_581e8_row3_col1 {\n",
       "  background-color: #4b64d5;\n",
       "  color: #f1f1f1;\n",
       "}\n",
       "#T_581e8_row3_col2 {\n",
       "  background-color: #5e7de7;\n",
       "  color: #f1f1f1;\n",
       "}\n",
       "#T_581e8_row3_col4 {\n",
       "  background-color: #b7cff9;\n",
       "  color: #000000;\n",
       "}\n",
       "#T_581e8_row3_col5 {\n",
       "  background-color: #cad8ef;\n",
       "  color: #000000;\n",
       "}\n",
       "#T_581e8_row4_col0 {\n",
       "  background-color: #4c66d6;\n",
       "  color: #f1f1f1;\n",
       "}\n",
       "#T_581e8_row4_col1 {\n",
       "  background-color: #5f7fe8;\n",
       "  color: #f1f1f1;\n",
       "}\n",
       "#T_581e8_row4_col2 {\n",
       "  background-color: #bed2f6;\n",
       "  color: #000000;\n",
       "}\n",
       "#T_581e8_row4_col3 {\n",
       "  background-color: #b5cdfa;\n",
       "  color: #000000;\n",
       "}\n",
       "#T_581e8_row4_col5 {\n",
       "  background-color: #9dbdff;\n",
       "  color: #000000;\n",
       "}\n",
       "#T_581e8_row4_col6 {\n",
       "  background-color: #89acfd;\n",
       "  color: #000000;\n",
       "}\n",
       "#T_581e8_row5_col0 {\n",
       "  background-color: #7597f6;\n",
       "  color: #f1f1f1;\n",
       "}\n",
       "#T_581e8_row5_col1 {\n",
       "  background-color: #93b5fe;\n",
       "  color: #000000;\n",
       "}\n",
       "#T_581e8_row5_col2 {\n",
       "  background-color: #6a8bef;\n",
       "  color: #f1f1f1;\n",
       "}\n",
       "#T_581e8_row5_col3 {\n",
       "  background-color: #dcdddd;\n",
       "  color: #000000;\n",
       "}\n",
       "#T_581e8_row5_col4 {\n",
       "  background-color: #bbd1f8;\n",
       "  color: #000000;\n",
       "}\n",
       "#T_581e8_row5_col6 {\n",
       "  background-color: #90b2fe;\n",
       "  color: #000000;\n",
       "}\n",
       "#T_581e8_row6_col2 {\n",
       "  background-color: #4257c9;\n",
       "  color: #f1f1f1;\n",
       "}\n",
       "#T_581e8_row6_col3 {\n",
       "  background-color: #455cce;\n",
       "  color: #f1f1f1;\n",
       "}\n",
       "#T_581e8_row6_col4 {\n",
       "  background-color: #779af7;\n",
       "  color: #f1f1f1;\n",
       "}\n",
       "</style>\n",
       "<table id=\"T_581e8\">\n",
       "  <thead>\n",
       "    <tr>\n",
       "      <th class=\"blank level0\" >&nbsp;</th>\n",
       "      <th id=\"T_581e8_level0_col0\" class=\"col_heading level0 col0\" >pH</th>\n",
       "      <th id=\"T_581e8_level0_col1\" class=\"col_heading level0 col1\" >Temprature</th>\n",
       "      <th id=\"T_581e8_level0_col2\" class=\"col_heading level0 col2\" >Taste</th>\n",
       "      <th id=\"T_581e8_level0_col3\" class=\"col_heading level0 col3\" >Odor</th>\n",
       "      <th id=\"T_581e8_level0_col4\" class=\"col_heading level0 col4\" >Fat </th>\n",
       "      <th id=\"T_581e8_level0_col5\" class=\"col_heading level0 col5\" >Turbidity</th>\n",
       "      <th id=\"T_581e8_level0_col6\" class=\"col_heading level0 col6\" >Colour</th>\n",
       "    </tr>\n",
       "  </thead>\n",
       "  <tbody>\n",
       "    <tr>\n",
       "      <th id=\"T_581e8_level0_row0\" class=\"row_heading level0 row0\" >pH</th>\n",
       "      <td id=\"T_581e8_row0_col0\" class=\"data row0 col0\" >1.000000</td>\n",
       "      <td id=\"T_581e8_row0_col1\" class=\"data row0 col1\" >0.244684</td>\n",
       "      <td id=\"T_581e8_row0_col2\" class=\"data row0 col2\" >-0.064053</td>\n",
       "      <td id=\"T_581e8_row0_col3\" class=\"data row0 col3\" >-0.081331</td>\n",
       "      <td id=\"T_581e8_row0_col4\" class=\"data row0 col4\" >-0.093429</td>\n",
       "      <td id=\"T_581e8_row0_col5\" class=\"data row0 col5\" >0.048384</td>\n",
       "      <td id=\"T_581e8_row0_col6\" class=\"data row0 col6\" >-0.164565</td>\n",
       "    </tr>\n",
       "    <tr>\n",
       "      <th id=\"T_581e8_level0_row1\" class=\"row_heading level0 row1\" >Temprature</th>\n",
       "      <td id=\"T_581e8_row1_col0\" class=\"data row1 col0\" >0.244684</td>\n",
       "      <td id=\"T_581e8_row1_col1\" class=\"data row1 col1\" >1.000000</td>\n",
       "      <td id=\"T_581e8_row1_col2\" class=\"data row1 col2\" >-0.109792</td>\n",
       "      <td id=\"T_581e8_row1_col3\" class=\"data row1 col3\" >-0.048870</td>\n",
       "      <td id=\"T_581e8_row1_col4\" class=\"data row1 col4\" >0.024073</td>\n",
       "      <td id=\"T_581e8_row1_col5\" class=\"data row1 col5\" >0.185106</td>\n",
       "      <td id=\"T_581e8_row1_col6\" class=\"data row1 col6\" >-0.008511</td>\n",
       "    </tr>\n",
       "    <tr>\n",
       "      <th id=\"T_581e8_level0_row2\" class=\"row_heading level0 row2\" >Taste</th>\n",
       "      <td id=\"T_581e8_row2_col0\" class=\"data row2 col0\" >-0.064053</td>\n",
       "      <td id=\"T_581e8_row2_col1\" class=\"data row2 col1\" >-0.109792</td>\n",
       "      <td id=\"T_581e8_row2_col2\" class=\"data row2 col2\" >1.000000</td>\n",
       "      <td id=\"T_581e8_row2_col3\" class=\"data row2 col3\" >0.017582</td>\n",
       "      <td id=\"T_581e8_row2_col4\" class=\"data row2 col4\" >0.324149</td>\n",
       "      <td id=\"T_581e8_row2_col5\" class=\"data row2 col5\" >0.055755</td>\n",
       "      <td id=\"T_581e8_row2_col6\" class=\"data row2 col6\" >-0.082654</td>\n",
       "    </tr>\n",
       "    <tr>\n",
       "      <th id=\"T_581e8_level0_row3\" class=\"row_heading level0 row3\" >Odor</th>\n",
       "      <td id=\"T_581e8_row3_col0\" class=\"data row3 col0\" >-0.081331</td>\n",
       "      <td id=\"T_581e8_row3_col1\" class=\"data row3 col1\" >-0.048870</td>\n",
       "      <td id=\"T_581e8_row3_col2\" class=\"data row3 col2\" >0.017582</td>\n",
       "      <td id=\"T_581e8_row3_col3\" class=\"data row3 col3\" >1.000000</td>\n",
       "      <td id=\"T_581e8_row3_col4\" class=\"data row3 col4\" >0.314505</td>\n",
       "      <td id=\"T_581e8_row3_col5\" class=\"data row3 col5\" >0.457935</td>\n",
       "      <td id=\"T_581e8_row3_col6\" class=\"data row3 col6\" >-0.039361</td>\n",
       "    </tr>\n",
       "    <tr>\n",
       "      <th id=\"T_581e8_level0_row4\" class=\"row_heading level0 row4\" >Fat </th>\n",
       "      <td id=\"T_581e8_row4_col0\" class=\"data row4 col0\" >-0.093429</td>\n",
       "      <td id=\"T_581e8_row4_col1\" class=\"data row4 col1\" >0.024073</td>\n",
       "      <td id=\"T_581e8_row4_col2\" class=\"data row4 col2\" >0.324149</td>\n",
       "      <td id=\"T_581e8_row4_col3\" class=\"data row4 col3\" >0.314505</td>\n",
       "      <td id=\"T_581e8_row4_col4\" class=\"data row4 col4\" >1.000000</td>\n",
       "      <td id=\"T_581e8_row4_col5\" class=\"data row4 col5\" >0.329264</td>\n",
       "      <td id=\"T_581e8_row4_col6\" class=\"data row4 col6\" >0.114151</td>\n",
       "    </tr>\n",
       "    <tr>\n",
       "      <th id=\"T_581e8_level0_row5\" class=\"row_heading level0 row5\" >Turbidity</th>\n",
       "      <td id=\"T_581e8_row5_col0\" class=\"data row5 col0\" >0.048384</td>\n",
       "      <td id=\"T_581e8_row5_col1\" class=\"data row5 col1\" >0.185106</td>\n",
       "      <td id=\"T_581e8_row5_col2\" class=\"data row5 col2\" >0.055755</td>\n",
       "      <td id=\"T_581e8_row5_col3\" class=\"data row5 col3\" >0.457935</td>\n",
       "      <td id=\"T_581e8_row5_col4\" class=\"data row5 col4\" >0.329264</td>\n",
       "      <td id=\"T_581e8_row5_col5\" class=\"data row5 col5\" >1.000000</td>\n",
       "      <td id=\"T_581e8_row5_col6\" class=\"data row5 col6\" >0.136436</td>\n",
       "    </tr>\n",
       "    <tr>\n",
       "      <th id=\"T_581e8_level0_row6\" class=\"row_heading level0 row6\" >Colour</th>\n",
       "      <td id=\"T_581e8_row6_col0\" class=\"data row6 col0\" >-0.164565</td>\n",
       "      <td id=\"T_581e8_row6_col1\" class=\"data row6 col1\" >-0.008511</td>\n",
       "      <td id=\"T_581e8_row6_col2\" class=\"data row6 col2\" >-0.082654</td>\n",
       "      <td id=\"T_581e8_row6_col3\" class=\"data row6 col3\" >-0.039361</td>\n",
       "      <td id=\"T_581e8_row6_col4\" class=\"data row6 col4\" >0.114151</td>\n",
       "      <td id=\"T_581e8_row6_col5\" class=\"data row6 col5\" >0.136436</td>\n",
       "      <td id=\"T_581e8_row6_col6\" class=\"data row6 col6\" >1.000000</td>\n",
       "    </tr>\n",
       "  </tbody>\n",
       "</table>\n"
      ],
      "text/plain": [
       "<pandas.io.formats.style.Styler at 0x15418feadf0>"
      ]
     },
     "execution_count": 4,
     "metadata": {},
     "output_type": "execute_result"
    }
   ],
   "source": [
    "corr = df.corr()\n",
    "corr.style.background_gradient(cmap='coolwarm')"
   ]
  },
  {
   "cell_type": "markdown",
   "id": "6c21b353",
   "metadata": {},
   "source": [
    "### Confusion Matrix"
   ]
  },
  {
   "cell_type": "code",
   "execution_count": 20,
   "id": "e9ccbe17",
   "metadata": {},
   "outputs": [
    {
     "data": {
      "text/plain": [
       "array([[  6.6,  35. ,   1. , ...,   1. ,   0. , 254. ],\n",
       "       [  6.6,  36. ,   0. , ...,   0. ,   1. , 253. ],\n",
       "       [  8.5,  70. ,   1. , ...,   1. ,   1. , 246. ],\n",
       "       ...,\n",
       "       [  3. ,  40. ,   1. , ...,   1. ,   1. , 255. ],\n",
       "       [  6.8,  43. ,   1. , ...,   1. ,   0. , 250. ],\n",
       "       [  8.6,  55. ,   0. , ...,   1. ,   1. , 255. ]])"
      ]
     },
     "execution_count": 20,
     "metadata": {},
     "output_type": "execute_result"
    }
   ],
   "source": [
    "X = df.iloc[:, :-1].values\n",
    "y = df.iloc[:, -1].values\n",
    "X"
   ]
  },
  {
   "cell_type": "code",
   "execution_count": 21,
   "id": "21d33d7c",
   "metadata": {},
   "outputs": [],
   "source": [
    "from sklearn.model_selection import train_test_split\n",
    "\n",
    "X_train, X_test, y_train, y_test = train_test_split(X, y, test_size=0.2, random_state=5)"
   ]
  },
  {
   "cell_type": "code",
   "execution_count": 22,
   "id": "199aeb0b",
   "metadata": {},
   "outputs": [
    {
     "data": {
      "text/html": [
       "<style>#sk-container-id-1 {color: black;background-color: white;}#sk-container-id-1 pre{padding: 0;}#sk-container-id-1 div.sk-toggleable {background-color: white;}#sk-container-id-1 label.sk-toggleable__label {cursor: pointer;display: block;width: 100%;margin-bottom: 0;padding: 0.3em;box-sizing: border-box;text-align: center;}#sk-container-id-1 label.sk-toggleable__label-arrow:before {content: \"▸\";float: left;margin-right: 0.25em;color: #696969;}#sk-container-id-1 label.sk-toggleable__label-arrow:hover:before {color: black;}#sk-container-id-1 div.sk-estimator:hover label.sk-toggleable__label-arrow:before {color: black;}#sk-container-id-1 div.sk-toggleable__content {max-height: 0;max-width: 0;overflow: hidden;text-align: left;background-color: #f0f8ff;}#sk-container-id-1 div.sk-toggleable__content pre {margin: 0.2em;color: black;border-radius: 0.25em;background-color: #f0f8ff;}#sk-container-id-1 input.sk-toggleable__control:checked~div.sk-toggleable__content {max-height: 200px;max-width: 100%;overflow: auto;}#sk-container-id-1 input.sk-toggleable__control:checked~label.sk-toggleable__label-arrow:before {content: \"▾\";}#sk-container-id-1 div.sk-estimator input.sk-toggleable__control:checked~label.sk-toggleable__label {background-color: #d4ebff;}#sk-container-id-1 div.sk-label input.sk-toggleable__control:checked~label.sk-toggleable__label {background-color: #d4ebff;}#sk-container-id-1 input.sk-hidden--visually {border: 0;clip: rect(1px 1px 1px 1px);clip: rect(1px, 1px, 1px, 1px);height: 1px;margin: -1px;overflow: hidden;padding: 0;position: absolute;width: 1px;}#sk-container-id-1 div.sk-estimator {font-family: monospace;background-color: #f0f8ff;border: 1px dotted black;border-radius: 0.25em;box-sizing: border-box;margin-bottom: 0.5em;}#sk-container-id-1 div.sk-estimator:hover {background-color: #d4ebff;}#sk-container-id-1 div.sk-parallel-item::after {content: \"\";width: 100%;border-bottom: 1px solid gray;flex-grow: 1;}#sk-container-id-1 div.sk-label:hover label.sk-toggleable__label {background-color: #d4ebff;}#sk-container-id-1 div.sk-serial::before {content: \"\";position: absolute;border-left: 1px solid gray;box-sizing: border-box;top: 0;bottom: 0;left: 50%;z-index: 0;}#sk-container-id-1 div.sk-serial {display: flex;flex-direction: column;align-items: center;background-color: white;padding-right: 0.2em;padding-left: 0.2em;position: relative;}#sk-container-id-1 div.sk-item {position: relative;z-index: 1;}#sk-container-id-1 div.sk-parallel {display: flex;align-items: stretch;justify-content: center;background-color: white;position: relative;}#sk-container-id-1 div.sk-item::before, #sk-container-id-1 div.sk-parallel-item::before {content: \"\";position: absolute;border-left: 1px solid gray;box-sizing: border-box;top: 0;bottom: 0;left: 50%;z-index: -1;}#sk-container-id-1 div.sk-parallel-item {display: flex;flex-direction: column;z-index: 1;position: relative;background-color: white;}#sk-container-id-1 div.sk-parallel-item:first-child::after {align-self: flex-end;width: 50%;}#sk-container-id-1 div.sk-parallel-item:last-child::after {align-self: flex-start;width: 50%;}#sk-container-id-1 div.sk-parallel-item:only-child::after {width: 0;}#sk-container-id-1 div.sk-dashed-wrapped {border: 1px dashed gray;margin: 0 0.4em 0.5em 0.4em;box-sizing: border-box;padding-bottom: 0.4em;background-color: white;}#sk-container-id-1 div.sk-label label {font-family: monospace;font-weight: bold;display: inline-block;line-height: 1.2em;}#sk-container-id-1 div.sk-label-container {text-align: center;}#sk-container-id-1 div.sk-container {/* jupyter's `normalize.less` sets `[hidden] { display: none; }` but bootstrap.min.css set `[hidden] { display: none !important; }` so we also need the `!important` here to be able to override the default hidden behavior on the sphinx rendered scikit-learn.org. See: https://github.com/scikit-learn/scikit-learn/issues/21755 */display: inline-block !important;position: relative;}#sk-container-id-1 div.sk-text-repr-fallback {display: none;}</style><div id=\"sk-container-id-1\" class=\"sk-top-container\"><div class=\"sk-text-repr-fallback\"><pre>LogisticRegression(max_iter=10000)</pre><b>In a Jupyter environment, please rerun this cell to show the HTML representation or trust the notebook. <br />On GitHub, the HTML representation is unable to render, please try loading this page with nbviewer.org.</b></div><div class=\"sk-container\" hidden><div class=\"sk-item\"><div class=\"sk-estimator sk-toggleable\"><input class=\"sk-toggleable__control sk-hidden--visually\" id=\"sk-estimator-id-1\" type=\"checkbox\" checked><label for=\"sk-estimator-id-1\" class=\"sk-toggleable__label sk-toggleable__label-arrow\">LogisticRegression</label><div class=\"sk-toggleable__content\"><pre>LogisticRegression(max_iter=10000)</pre></div></div></div></div></div>"
      ],
      "text/plain": [
       "LogisticRegression(max_iter=10000)"
      ]
     },
     "execution_count": 22,
     "metadata": {},
     "output_type": "execute_result"
    }
   ],
   "source": [
    "from sklearn.linear_model import LogisticRegression\n",
    "\n",
    "lr = LogisticRegression(max_iter=10000)\n",
    "lr.fit(X_train, y_train)"
   ]
  },
  {
   "cell_type": "code",
   "execution_count": 23,
   "id": "aec3cb21",
   "metadata": {},
   "outputs": [],
   "source": [
    "y_predlr = lr.predict(X_test)"
   ]
  },
  {
   "cell_type": "code",
   "execution_count": 25,
   "id": "f86a0f1b",
   "metadata": {},
   "outputs": [
    {
     "data": {
      "text/plain": [
       "array([[40, 14,  0],\n",
       "       [ 4, 77,  2],\n",
       "       [ 9,  1, 65]], dtype=int64)"
      ]
     },
     "execution_count": 25,
     "metadata": {},
     "output_type": "execute_result"
    }
   ],
   "source": [
    "from sklearn.metrics import confusion_matrix\n",
    "cm = confusion_matrix(y_test, y_predlr)\n",
    "cm"
   ]
  },
  {
   "cell_type": "code",
   "execution_count": 26,
   "id": "406e1820",
   "metadata": {},
   "outputs": [],
   "source": [
    "from sklearn.ensemble import GradientBoostingClassifier\n",
    "from sklearn.metrics import mean_absolute_error\n",
    "gb = GradientBoostingClassifier(n_estimators = 200, max_depth = 1)\n",
    "gb.fit(X_train, y_train.ravel())\n",
    "y_predgb = gb.predict(X_test) "
   ]
  },
  {
   "cell_type": "code",
   "execution_count": 28,
   "id": "249ab6d7",
   "metadata": {},
   "outputs": [
    {
     "data": {
      "text/plain": [
       "array([[54,  0,  0],\n",
       "       [ 0, 82,  1],\n",
       "       [ 0,  0, 75]], dtype=int64)"
      ]
     },
     "execution_count": 28,
     "metadata": {},
     "output_type": "execute_result"
    }
   ],
   "source": [
    "from sklearn.metrics import confusion_matrix\n",
    "cm1 = confusion_matrix(y_test, y_predgb)\n",
    "cm1"
   ]
  },
  {
   "cell_type": "code",
   "execution_count": null,
   "id": "d1e6882c",
   "metadata": {},
   "outputs": [],
   "source": []
  }
 ],
 "metadata": {
  "kernelspec": {
   "display_name": "Python 3 (ipykernel)",
   "language": "python",
   "name": "python3"
  },
  "language_info": {
   "codemirror_mode": {
    "name": "ipython",
    "version": 3
   },
   "file_extension": ".py",
   "mimetype": "text/x-python",
   "name": "python",
   "nbconvert_exporter": "python",
   "pygments_lexer": "ipython3",
   "version": "3.9.12"
  }
 },
 "nbformat": 4,
 "nbformat_minor": 5
}
