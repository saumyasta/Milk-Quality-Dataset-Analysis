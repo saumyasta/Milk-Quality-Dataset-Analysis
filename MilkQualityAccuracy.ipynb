{
 "cells": [
  {
   "cell_type": "code",
   "execution_count": 1,
   "id": "923827e6",
   "metadata": {},
   "outputs": [],
   "source": [
    "#Importing required library\n",
    "import pandas as pd\n",
    "import numpy as np\n",
    "from collections import Counter"
   ]
  },
  {
   "cell_type": "code",
   "execution_count": 2,
   "id": "4e2aa150",
   "metadata": {},
   "outputs": [
    {
     "data": {
      "text/html": [
       "<div>\n",
       "<style scoped>\n",
       "    .dataframe tbody tr th:only-of-type {\n",
       "        vertical-align: middle;\n",
       "    }\n",
       "\n",
       "    .dataframe tbody tr th {\n",
       "        vertical-align: top;\n",
       "    }\n",
       "\n",
       "    .dataframe thead th {\n",
       "        text-align: right;\n",
       "    }\n",
       "</style>\n",
       "<table border=\"1\" class=\"dataframe\">\n",
       "  <thead>\n",
       "    <tr style=\"text-align: right;\">\n",
       "      <th></th>\n",
       "      <th>pH</th>\n",
       "      <th>Temprature</th>\n",
       "      <th>Taste</th>\n",
       "      <th>Odor</th>\n",
       "      <th>Fat</th>\n",
       "      <th>Turbidity</th>\n",
       "      <th>Colour</th>\n",
       "      <th>Grade</th>\n",
       "    </tr>\n",
       "  </thead>\n",
       "  <tbody>\n",
       "    <tr>\n",
       "      <th>0</th>\n",
       "      <td>pH</td>\n",
       "      <td>Temprature</td>\n",
       "      <td>Taste</td>\n",
       "      <td>Odor</td>\n",
       "      <td>Fat</td>\n",
       "      <td>Turbidity</td>\n",
       "      <td>Colour</td>\n",
       "      <td>Grade</td>\n",
       "    </tr>\n",
       "    <tr>\n",
       "      <th>1</th>\n",
       "      <td>6.6</td>\n",
       "      <td>35</td>\n",
       "      <td>1</td>\n",
       "      <td>0</td>\n",
       "      <td>1</td>\n",
       "      <td>0</td>\n",
       "      <td>254</td>\n",
       "      <td>high</td>\n",
       "    </tr>\n",
       "    <tr>\n",
       "      <th>2</th>\n",
       "      <td>6.6</td>\n",
       "      <td>36</td>\n",
       "      <td>0</td>\n",
       "      <td>1</td>\n",
       "      <td>0</td>\n",
       "      <td>1</td>\n",
       "      <td>253</td>\n",
       "      <td>high</td>\n",
       "    </tr>\n",
       "    <tr>\n",
       "      <th>3</th>\n",
       "      <td>8.5</td>\n",
       "      <td>70</td>\n",
       "      <td>1</td>\n",
       "      <td>1</td>\n",
       "      <td>1</td>\n",
       "      <td>1</td>\n",
       "      <td>246</td>\n",
       "      <td>low</td>\n",
       "    </tr>\n",
       "    <tr>\n",
       "      <th>4</th>\n",
       "      <td>9.5</td>\n",
       "      <td>34</td>\n",
       "      <td>1</td>\n",
       "      <td>1</td>\n",
       "      <td>0</td>\n",
       "      <td>1</td>\n",
       "      <td>255</td>\n",
       "      <td>low</td>\n",
       "    </tr>\n",
       "  </tbody>\n",
       "</table>\n",
       "</div>"
      ],
      "text/plain": [
       "    pH  Temprature  Taste  Odor   Fat  Turbidity  Colour  Grade\n",
       "0   pH  Temprature  Taste  Odor  Fat   Turbidity  Colour  Grade\n",
       "1  6.6          35      1     0     1          0     254   high\n",
       "2  6.6          36      0     1     0          1     253   high\n",
       "3  8.5          70      1     1     1          1     246    low\n",
       "4  9.5          34      1     1     0          1     255    low"
      ]
     },
     "execution_count": 2,
     "metadata": {},
     "output_type": "execute_result"
    }
   ],
   "source": [
    "#Setting names for the csv header\n",
    "headernames = ['pH', 'Temprature', 'Taste', 'Odor', 'Fat','Turbidity','Colour','Grade']\n",
    "\n",
    "#opening the csv file\n",
    "dataset = pd.read_csv(\"milknew.csv\", names = headernames)\n",
    "dataset.head()"
   ]
  },
  {
   "cell_type": "code",
   "execution_count": 3,
   "id": "0234ef33",
   "metadata": {},
   "outputs": [],
   "source": [
    "#Seperating the input features and output labels\n",
    "X = dataset.iloc[:, :-1].values\n",
    "y = dataset.iloc[:, -1].values\n",
    "#converting text labels to numeric form\n",
    "labels, unique = pd.factorize(y)"
   ]
  },
  {
   "cell_type": "code",
   "execution_count": 4,
   "id": "776126a7",
   "metadata": {},
   "outputs": [],
   "source": [
    "#splitting data in test and train segments\n",
    "from sklearn.model_selection import train_test_split\n",
    "X_train, X_test, y_train, y_test = train_test_split(X, labels, test_size = 0.40)"
   ]
  },
  {
   "cell_type": "code",
   "execution_count": 5,
   "id": "fc811692",
   "metadata": {},
   "outputs": [],
   "source": [
    "def KNNClassify(X_test, Y_train = y_train,X_train = X_train, k = 8):\n",
    "   \n",
    "    min_dist = []\n",
    "    #for every example in the training set, calculate eucledien distance against the test example\n",
    "    for i,point in enumerate(X_train):\n",
    "        d1 = (point[0]-X_test[0])**2\n",
    "        d2 = (point[1]-X_test[1])**2\n",
    "        d3 = (point[2]-X_test[2])**2\n",
    "        d4 = (point[3]-X_test[3])**2\n",
    "        dist = np.sqrt(d1+d2+d3+d4)\n",
    "        #append the calculated distance in a list\n",
    "        min_dist.append((i,dist))\n",
    "    #sort distances in ascending order    \n",
    "    min_dist.sort(key = takeSecond)\n",
    "    \n",
    "    #get top k nearest neighbours\n",
    "    neighbours = min_dist[:k]\n",
    "    #get index of the minimum distances\n",
    "    idx = []\n",
    "    for tup in neighbours:\n",
    "        idx.append(tup[0])\n",
    "    #check which label has majority\n",
    "    output = Y_train[idx]\n",
    "    values, counts = np.unique(output, return_counts=True)\n",
    "    #return label with majority occurence\n",
    "    max_idx = np.argmax(counts)\n",
    "    return values[max_idx]"
   ]
  },
  {
   "cell_type": "code",
   "execution_count": 14,
   "id": "ca7815d2",
   "metadata": {},
   "outputs": [
    {
     "ename": "TypeError",
     "evalue": "unsupported operand type(s) for -: 'str' and 'str'",
     "output_type": "error",
     "traceback": [
      "\u001b[1;31m---------------------------------------------------------------------------\u001b[0m",
      "\u001b[1;31mTypeError\u001b[0m                                 Traceback (most recent call last)",
      "Input \u001b[1;32mIn [14]\u001b[0m, in \u001b[0;36m<cell line: 2>\u001b[1;34m()\u001b[0m\n\u001b[0;32m      1\u001b[0m \u001b[38;5;66;03m#getting predicted values using our algorithm\u001b[39;00m\n\u001b[1;32m----> 2\u001b[0m predictions \u001b[38;5;241m=\u001b[39m \u001b[38;5;28;43mlist\u001b[39;49m\u001b[43m(\u001b[49m\u001b[38;5;28;43mmap\u001b[39;49m\u001b[43m(\u001b[49m\u001b[43mKNNClassify\u001b[49m\u001b[43m,\u001b[49m\u001b[43mX_test\u001b[49m\u001b[43m)\u001b[49m\u001b[43m)\u001b[49m\n",
      "Input \u001b[1;32mIn [5]\u001b[0m, in \u001b[0;36mKNNClassify\u001b[1;34m(X_test, Y_train, X_train, k)\u001b[0m\n\u001b[0;32m      4\u001b[0m \u001b[38;5;66;03m#for every example in the training set, calculate eucledien distance against the test example\u001b[39;00m\n\u001b[0;32m      5\u001b[0m \u001b[38;5;28;01mfor\u001b[39;00m i,point \u001b[38;5;129;01min\u001b[39;00m \u001b[38;5;28menumerate\u001b[39m(X_train):\n\u001b[1;32m----> 6\u001b[0m     d1 \u001b[38;5;241m=\u001b[39m (\u001b[43mpoint\u001b[49m\u001b[43m[\u001b[49m\u001b[38;5;241;43m0\u001b[39;49m\u001b[43m]\u001b[49m\u001b[38;5;241;43m-\u001b[39;49m\u001b[43mX_test\u001b[49m\u001b[43m[\u001b[49m\u001b[38;5;241;43m0\u001b[39;49m\u001b[43m]\u001b[49m)\u001b[38;5;241m*\u001b[39m\u001b[38;5;241m*\u001b[39m\u001b[38;5;241m2\u001b[39m\n\u001b[0;32m      7\u001b[0m     d2 \u001b[38;5;241m=\u001b[39m (point[\u001b[38;5;241m1\u001b[39m]\u001b[38;5;241m-\u001b[39mX_test[\u001b[38;5;241m1\u001b[39m])\u001b[38;5;241m*\u001b[39m\u001b[38;5;241m*\u001b[39m\u001b[38;5;241m2\u001b[39m\n\u001b[0;32m      8\u001b[0m     d3 \u001b[38;5;241m=\u001b[39m (point[\u001b[38;5;241m2\u001b[39m]\u001b[38;5;241m-\u001b[39mX_test[\u001b[38;5;241m2\u001b[39m])\u001b[38;5;241m*\u001b[39m\u001b[38;5;241m*\u001b[39m\u001b[38;5;241m2\u001b[39m\n",
      "\u001b[1;31mTypeError\u001b[0m: unsupported operand type(s) for -: 'str' and 'str'"
     ]
    }
   ],
   "source": [
    "#getting predicted values using our algorithm\n",
    "predictions = list(map(KNNClassify,X_test))"
   ]
  },
  {
   "cell_type": "code",
   "execution_count": 12,
   "id": "e658842d",
   "metadata": {},
   "outputs": [],
   "source": [
    "def accuracy(pred , y_test):\n",
    "    count = 0\n",
    "    for i in range(len(pred)):\n",
    "        if pred[i] == y_test[i]:\n",
    "            count +=1\n",
    "            \n",
    "    return print(\"Accuracy =\", (count/len(pred))*100, \"%\")"
   ]
  },
  {
   "cell_type": "code",
   "execution_count": 13,
   "id": "61d4ca1c",
   "metadata": {},
   "outputs": [
    {
     "ename": "NameError",
     "evalue": "name 'predictions' is not defined",
     "output_type": "error",
     "traceback": [
      "\u001b[1;31m---------------------------------------------------------------------------\u001b[0m",
      "\u001b[1;31mNameError\u001b[0m                                 Traceback (most recent call last)",
      "Input \u001b[1;32mIn [13]\u001b[0m, in \u001b[0;36m<cell line: 2>\u001b[1;34m()\u001b[0m\n\u001b[0;32m      1\u001b[0m \u001b[38;5;66;03m#calling the accuracy function\u001b[39;00m\n\u001b[1;32m----> 2\u001b[0m accuracy(\u001b[43mpredictions\u001b[49m, y_test)\n",
      "\u001b[1;31mNameError\u001b[0m: name 'predictions' is not defined"
     ]
    }
   ],
   "source": [
    "#calling the accuracy function\n",
    "accuracy(predictions, y_test)"
   ]
  },
  {
   "cell_type": "code",
   "execution_count": null,
   "id": "549e8936",
   "metadata": {},
   "outputs": [],
   "source": []
  }
 ],
 "metadata": {
  "kernelspec": {
   "display_name": "Python 3 (ipykernel)",
   "language": "python",
   "name": "python3"
  },
  "language_info": {
   "codemirror_mode": {
    "name": "ipython",
    "version": 3
   },
   "file_extension": ".py",
   "mimetype": "text/x-python",
   "name": "python",
   "nbconvert_exporter": "python",
   "pygments_lexer": "ipython3",
   "version": "3.9.12"
  }
 },
 "nbformat": 4,
 "nbformat_minor": 5
}
